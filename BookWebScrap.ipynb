{
 "cells": [
  {
   "cell_type": "code",
   "execution_count": 1,
   "id": "e4ba3b9a-4f44-4013-b675-db400e4b9a9e",
   "metadata": {},
   "outputs": [],
   "source": [
    "import requests\n",
    "from bs4 import BeautifulSoup as bs\n",
    "import pandas as pd"
   ]
  },
  {
   "cell_type": "code",
   "execution_count": 35,
   "id": "fcb92525-1dc7-432d-8e98-1082615a503f",
   "metadata": {},
   "outputs": [
    {
     "name": "stdout",
     "output_type": "stream",
     "text": [
      "Currently Scrapping page : 1\n",
      "Currently Scrapping page : 2\n",
      "Currently Scrapping page : 3\n",
      "Currently Scrapping page : 4\n",
      "Currently Scrapping page : 5\n",
      "Currently Scrapping page : 6\n",
      "Currently Scrapping page : 7\n",
      "Currently Scrapping page : 8\n",
      "Currently Scrapping page : 9\n",
      "Currently Scrapping page : 10\n",
      "Currently Scrapping page : 11\n",
      "Currently Scrapping page : 12\n",
      "Currently Scrapping page : 13\n",
      "Currently Scrapping page : 14\n",
      "Currently Scrapping page : 15\n",
      "Currently Scrapping page : 16\n",
      "Currently Scrapping page : 17\n",
      "Currently Scrapping page : 18\n",
      "Currently Scrapping page : 19\n",
      "Currently Scrapping page : 20\n",
      "Currently Scrapping page : 21\n",
      "Currently Scrapping page : 22\n",
      "Currently Scrapping page : 23\n",
      "Currently Scrapping page : 24\n",
      "Currently Scrapping page : 25\n",
      "Currently Scrapping page : 26\n",
      "Currently Scrapping page : 27\n",
      "Currently Scrapping page : 28\n",
      "Currently Scrapping page : 29\n",
      "Currently Scrapping page : 30\n",
      "Currently Scrapping page : 31\n",
      "Currently Scrapping page : 32\n",
      "Currently Scrapping page : 33\n",
      "Currently Scrapping page : 34\n",
      "Currently Scrapping page : 35\n",
      "Currently Scrapping page : 36\n",
      "Currently Scrapping page : 37\n",
      "Currently Scrapping page : 38\n",
      "Currently Scrapping page : 39\n",
      "Currently Scrapping page : 40\n",
      "Currently Scrapping page : 41\n",
      "Currently Scrapping page : 42\n",
      "Currently Scrapping page : 43\n",
      "Currently Scrapping page : 44\n",
      "Currently Scrapping page : 45\n",
      "Currently Scrapping page : 46\n",
      "Currently Scrapping page : 47\n",
      "Currently Scrapping page : 48\n",
      "Currently Scrapping page : 49\n",
      "Currently Scrapping page : 50\n",
      "Currently Scrapping page : 51\n"
     ]
    }
   ],
   "source": [
    "current_page = 1\n",
    "proceeds = True\n",
    "data = []\n",
    "while(proceeds):\n",
    "    print('Currently Scrapping page : '+str(current_page))\n",
    "    url = 'https://books.toscrape.com/catalogue/page-'+str(current_page)+'.html'\n",
    "    pages = requests.get(url)\n",
    "    soup = bs(pages.text, 'html.parser')\n",
    "    title_tag = soup.title.text.strip()\n",
    "\n",
    "    if title_tag == \"404 Not Found\":\n",
    "        proceeds = False\n",
    "\n",
    "    else:\n",
    "        books = soup.find_all('li', class_='col-xs-6 col-sm-4 col-md-3 col-lg-3')\n",
    "        for book in books:\n",
    "            item = {}\n",
    "\n",
    "            item['Title'] = book.find('img').attrs['alt']\n",
    "            item['Price'] = book.find('p', class_='price_color').text[1:]\n",
    "            item['Stock'] = book.find('p', class_='instock availability').text.strip()\n",
    "            item['Link'] = book.find('a').attrs['href']\n",
    "\n",
    "            data.append(item)\n",
    "    current_page += 1\n",
    "\n",
    "file = pd.DataFrame(data)\n",
    "file.to_csv(\"Books_Store.csv\")\n",
    "    \n",
    "            \n",
    "\n",
    "\n"
   ]
  },
  {
   "cell_type": "code",
   "execution_count": null,
   "id": "0a565e93-83f4-44a3-bcb8-7e0f58a04eb1",
   "metadata": {},
   "outputs": [],
   "source": []
  }
 ],
 "metadata": {
  "kernelspec": {
   "display_name": "Python 3 (ipykernel)",
   "language": "python",
   "name": "python3"
  },
  "language_info": {
   "codemirror_mode": {
    "name": "ipython",
    "version": 3
   },
   "file_extension": ".py",
   "mimetype": "text/x-python",
   "name": "python",
   "nbconvert_exporter": "python",
   "pygments_lexer": "ipython3",
   "version": "3.11.7"
  }
 },
 "nbformat": 4,
 "nbformat_minor": 5
}
